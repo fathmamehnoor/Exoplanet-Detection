{
 "cells": [
  {
   "cell_type": "code",
   "execution_count": 11,
   "metadata": {
    "_cell_guid": "da9ab526-eaea-45d8-8675-71696252d7e8",
    "_uuid": "3b47b9d7-06d6-4f07-a2ad-04e65292e7dc",
    "collapsed": false,
    "execution": {
     "iopub.execute_input": "2025-05-15T05:53:53.510420Z",
     "iopub.status.busy": "2025-05-15T05:53:53.510086Z",
     "iopub.status.idle": "2025-05-15T05:53:53.591739Z",
     "shell.execute_reply": "2025-05-15T05:53:53.590857Z",
     "shell.execute_reply.started": "2025-05-15T05:53:53.510399Z"
    },
    "jupyter": {
     "outputs_hidden": false
    },
    "trusted": true
   },
   "outputs": [],
   "source": [
    "import pandas as pd\n",
    "import numpy as np\n",
    "\n",
    "# If the file has comment lines at the top, use comment='#'\n",
    "df = pd.read_csv(\"data/q1_q17_dr25_koi_2025.05.14_22.18.22.csv\", comment='#')"
   ]
  },
  {
   "cell_type": "code",
   "execution_count": 12,
   "metadata": {
    "_cell_guid": "c03b7e03-db69-40c5-840a-ef33d04e119a",
    "_uuid": "a95e084c-b8b7-4f44-a3e4-20e5c763db2f",
    "collapsed": false,
    "execution": {
     "iopub.execute_input": "2025-05-15T05:53:54.542503Z",
     "iopub.status.busy": "2025-05-15T05:53:54.541392Z",
     "iopub.status.idle": "2025-05-15T05:53:54.552326Z",
     "shell.execute_reply": "2025-05-15T05:53:54.551363Z",
     "shell.execute_reply.started": "2025-05-15T05:53:54.542464Z"
    },
    "jupyter": {
     "outputs_hidden": false
    },
    "trusted": true
   },
   "outputs": [],
   "source": [
    "features = [\n",
    "    \"koi_disposition\", \"koi_period\", \"koi_impact\", \"koi_duration\", \"koi_depth\",\n",
    "    \"koi_prad\", \"koi_teq\", \"koi_insol\", \"koi_model_snr\",\n",
    "    \"koi_steff\", \"koi_slogg\", \"koi_srad\"\n",
    "]\n",
    "\n",
    "df = df[features]"
   ]
  },
  {
   "cell_type": "code",
   "execution_count": 13,
   "metadata": {
    "_cell_guid": "aa077269-dec4-4865-8260-96f6cd66ca2f",
    "_uuid": "e52eaaaa-23f4-4df8-862b-f6787cb019a3",
    "collapsed": false,
    "execution": {
     "iopub.execute_input": "2025-05-15T05:53:55.575098Z",
     "iopub.status.busy": "2025-05-15T05:53:55.574280Z",
     "iopub.status.idle": "2025-05-15T05:53:55.593571Z",
     "shell.execute_reply": "2025-05-15T05:53:55.592441Z",
     "shell.execute_reply.started": "2025-05-15T05:53:55.575068Z"
    },
    "jupyter": {
     "outputs_hidden": false
    },
    "trusted": true
   },
   "outputs": [
    {
     "data": {
      "text/html": [
       "<div>\n",
       "<style scoped>\n",
       "    .dataframe tbody tr th:only-of-type {\n",
       "        vertical-align: middle;\n",
       "    }\n",
       "\n",
       "    .dataframe tbody tr th {\n",
       "        vertical-align: top;\n",
       "    }\n",
       "\n",
       "    .dataframe thead th {\n",
       "        text-align: right;\n",
       "    }\n",
       "</style>\n",
       "<table border=\"1\" class=\"dataframe\">\n",
       "  <thead>\n",
       "    <tr style=\"text-align: right;\">\n",
       "      <th></th>\n",
       "      <th>koi_disposition</th>\n",
       "      <th>koi_period</th>\n",
       "      <th>koi_impact</th>\n",
       "      <th>koi_duration</th>\n",
       "      <th>koi_depth</th>\n",
       "      <th>koi_prad</th>\n",
       "      <th>koi_teq</th>\n",
       "      <th>koi_insol</th>\n",
       "      <th>koi_model_snr</th>\n",
       "      <th>koi_steff</th>\n",
       "      <th>koi_slogg</th>\n",
       "      <th>koi_srad</th>\n",
       "    </tr>\n",
       "  </thead>\n",
       "  <tbody>\n",
       "    <tr>\n",
       "      <th>0</th>\n",
       "      <td>CONFIRMED</td>\n",
       "      <td>2.470613</td>\n",
       "      <td>0.818</td>\n",
       "      <td>1.74319</td>\n",
       "      <td>14230.9</td>\n",
       "      <td>13.04</td>\n",
       "      <td>1339.0</td>\n",
       "      <td>761.46</td>\n",
       "      <td>4304.3</td>\n",
       "      <td>5820.0</td>\n",
       "      <td>4.457</td>\n",
       "      <td>0.964</td>\n",
       "    </tr>\n",
       "    <tr>\n",
       "      <th>1</th>\n",
       "      <td>CONFIRMED</td>\n",
       "      <td>2.204735</td>\n",
       "      <td>0.224</td>\n",
       "      <td>3.88864</td>\n",
       "      <td>6674.7</td>\n",
       "      <td>16.10</td>\n",
       "      <td>2048.0</td>\n",
       "      <td>4148.92</td>\n",
       "      <td>5945.9</td>\n",
       "      <td>6440.0</td>\n",
       "      <td>4.019</td>\n",
       "      <td>1.952</td>\n",
       "    </tr>\n",
       "    <tr>\n",
       "      <th>2</th>\n",
       "      <td>CONFIRMED</td>\n",
       "      <td>4.887803</td>\n",
       "      <td>0.054</td>\n",
       "      <td>2.36255</td>\n",
       "      <td>4315.8</td>\n",
       "      <td>4.82</td>\n",
       "      <td>800.0</td>\n",
       "      <td>96.67</td>\n",
       "      <td>862.3</td>\n",
       "      <td>4778.0</td>\n",
       "      <td>4.591</td>\n",
       "      <td>0.763</td>\n",
       "    </tr>\n",
       "    <tr>\n",
       "      <th>3</th>\n",
       "      <td>CONFIRMED</td>\n",
       "      <td>3.849372</td>\n",
       "      <td>0.915</td>\n",
       "      <td>2.63200</td>\n",
       "      <td>1298.6</td>\n",
       "      <td>12.94</td>\n",
       "      <td>2034.0</td>\n",
       "      <td>4055.29</td>\n",
       "      <td>132.7</td>\n",
       "      <td>6244.0</td>\n",
       "      <td>3.657</td>\n",
       "      <td>2.992</td>\n",
       "    </tr>\n",
       "    <tr>\n",
       "      <th>4</th>\n",
       "      <td>CANDIDATE</td>\n",
       "      <td>4.780328</td>\n",
       "      <td>0.952</td>\n",
       "      <td>2.02530</td>\n",
       "      <td>960.8</td>\n",
       "      <td>7.14</td>\n",
       "      <td>1441.0</td>\n",
       "      <td>1020.05</td>\n",
       "      <td>380.8</td>\n",
       "      <td>5937.0</td>\n",
       "      <td>4.012</td>\n",
       "      <td>1.787</td>\n",
       "    </tr>\n",
       "  </tbody>\n",
       "</table>\n",
       "</div>"
      ],
      "text/plain": [
       "  koi_disposition  koi_period  koi_impact  koi_duration  koi_depth  koi_prad  \\\n",
       "0       CONFIRMED    2.470613       0.818       1.74319    14230.9     13.04   \n",
       "1       CONFIRMED    2.204735       0.224       3.88864     6674.7     16.10   \n",
       "2       CONFIRMED    4.887803       0.054       2.36255     4315.8      4.82   \n",
       "3       CONFIRMED    3.849372       0.915       2.63200     1298.6     12.94   \n",
       "4       CANDIDATE    4.780328       0.952       2.02530      960.8      7.14   \n",
       "\n",
       "   koi_teq  koi_insol  koi_model_snr  koi_steff  koi_slogg  koi_srad  \n",
       "0   1339.0     761.46         4304.3     5820.0      4.457     0.964  \n",
       "1   2048.0    4148.92         5945.9     6440.0      4.019     1.952  \n",
       "2    800.0      96.67          862.3     4778.0      4.591     0.763  \n",
       "3   2034.0    4055.29          132.7     6244.0      3.657     2.992  \n",
       "4   1441.0    1020.05          380.8     5937.0      4.012     1.787  "
      ]
     },
     "execution_count": 13,
     "metadata": {},
     "output_type": "execute_result"
    }
   ],
   "source": [
    "df.head()"
   ]
  },
  {
   "cell_type": "code",
   "execution_count": 14,
   "metadata": {
    "_cell_guid": "6e0bbf29-f9f0-468b-b39f-e521bf07f3b0",
    "_uuid": "0ad0e2e1-9d5f-4d7d-86bd-28ee2c5cfc18",
    "collapsed": false,
    "execution": {
     "iopub.execute_input": "2025-05-15T05:53:58.208117Z",
     "iopub.status.busy": "2025-05-15T05:53:58.207824Z",
     "iopub.status.idle": "2025-05-15T05:53:58.216035Z",
     "shell.execute_reply": "2025-05-15T05:53:58.214958Z",
     "shell.execute_reply.started": "2025-05-15T05:53:58.208095Z"
    },
    "jupyter": {
     "outputs_hidden": false
    },
    "trusted": true
   },
   "outputs": [],
   "source": [
    "# Drop rows with any missing values\n",
    "df_clean = df.dropna()"
   ]
  },
  {
   "cell_type": "code",
   "execution_count": 15,
   "metadata": {
    "_cell_guid": "d82b0477-faca-4fb1-b071-e55dd8760339",
    "_uuid": "78eba43b-17c6-4a49-bda6-7394f35b2fdb",
    "collapsed": false,
    "execution": {
     "iopub.execute_input": "2025-05-15T05:54:00.212385Z",
     "iopub.status.busy": "2025-05-15T05:54:00.212018Z",
     "iopub.status.idle": "2025-05-15T05:54:00.218904Z",
     "shell.execute_reply": "2025-05-15T05:54:00.217643Z",
     "shell.execute_reply.started": "2025-05-15T05:54:00.212362Z"
    },
    "jupyter": {
     "outputs_hidden": false
    },
    "trusted": true
   },
   "outputs": [],
   "source": [
    "labels = df_clean[\"koi_disposition\"]\n",
    "features = df_clean.drop(\"koi_disposition\", axis=1)"
   ]
  },
  {
   "cell_type": "code",
   "execution_count": 16,
   "metadata": {
    "_cell_guid": "fe0ad97b-5046-47db-ab29-59319130814c",
    "_uuid": "8a4590c5-965a-48ff-af01-99bc52706467",
    "collapsed": false,
    "execution": {
     "iopub.execute_input": "2025-05-15T05:54:01.405733Z",
     "iopub.status.busy": "2025-05-15T05:54:01.405395Z",
     "iopub.status.idle": "2025-05-15T05:54:01.410924Z",
     "shell.execute_reply": "2025-05-15T05:54:01.409829Z",
     "shell.execute_reply.started": "2025-05-15T05:54:01.405710Z"
    },
    "jupyter": {
     "outputs_hidden": false
    },
    "trusted": true
   },
   "outputs": [],
   "source": [
    "input_length = 11   "
   ]
  },
  {
   "cell_type": "code",
   "execution_count": 17,
   "metadata": {
    "_cell_guid": "b15565ec-57e2-40d2-93b8-fcb6215d15c7",
    "_uuid": "2bcbc6bb-9335-4024-b019-c2d4e944a24f",
    "collapsed": false,
    "execution": {
     "iopub.execute_input": "2025-05-15T05:54:06.740380Z",
     "iopub.status.busy": "2025-05-15T05:54:06.740045Z",
     "iopub.status.idle": "2025-05-15T05:54:06.751446Z",
     "shell.execute_reply": "2025-05-15T05:54:06.750327Z",
     "shell.execute_reply.started": "2025-05-15T05:54:06.740360Z"
    },
    "jupyter": {
     "outputs_hidden": false
    },
    "trusted": true
   },
   "outputs": [],
   "source": [
    "# Scale\n",
    "from sklearn.preprocessing import MinMaxScaler, LabelEncoder\n",
    "from sklearn.model_selection import train_test_split\n",
    "import tensorflow as tf\n",
    "\n",
    "scaler = MinMaxScaler()\n",
    "X_scaled = scaler.fit_transform(features)"
   ]
  },
  {
   "cell_type": "code",
   "execution_count": 18,
   "metadata": {
    "_cell_guid": "c3e03be6-73fd-4da5-94c9-e0d001635d6d",
    "_uuid": "96dd5d3c-553a-452a-934e-5743387cf88e",
    "collapsed": false,
    "execution": {
     "iopub.execute_input": "2025-05-15T05:54:07.724490Z",
     "iopub.status.busy": "2025-05-15T05:54:07.724163Z",
     "iopub.status.idle": "2025-05-15T05:54:07.729823Z",
     "shell.execute_reply": "2025-05-15T05:54:07.728712Z",
     "shell.execute_reply.started": "2025-05-15T05:54:07.724470Z"
    },
    "jupyter": {
     "outputs_hidden": false
    },
    "trusted": true
   },
   "outputs": [],
   "source": [
    "# Reshape for Conv1D\n",
    "X_cnn = X_scaled.reshape((X_scaled.shape[0], X_scaled.shape[1], 1))  # (4599, 11, 1)"
   ]
  },
  {
   "cell_type": "code",
   "execution_count": 19,
   "metadata": {
    "_cell_guid": "84c29ffd-2b2c-44a9-8dcf-121cf8751e82",
    "_uuid": "f7f9603a-1bf0-4981-9f49-1c3ae02a6c70",
    "collapsed": false,
    "execution": {
     "iopub.execute_input": "2025-05-15T05:54:09.708791Z",
     "iopub.status.busy": "2025-05-15T05:54:09.708423Z",
     "iopub.status.idle": "2025-05-15T05:54:09.716745Z",
     "shell.execute_reply": "2025-05-15T05:54:09.715723Z",
     "shell.execute_reply.started": "2025-05-15T05:54:09.708765Z"
    },
    "jupyter": {
     "outputs_hidden": false
    },
    "trusted": true
   },
   "outputs": [],
   "source": [
    "\n",
    "# Encode labels\n",
    "le = LabelEncoder()\n",
    "y_encoded = le.fit_transform(labels) "
   ]
  },
  {
   "cell_type": "code",
   "execution_count": 20,
   "metadata": {
    "_cell_guid": "e1b63601-7b26-4ee5-a968-8362858e16ed",
    "_uuid": "47471474-6d2e-49fc-827a-b9d780ab4e35",
    "collapsed": false,
    "execution": {
     "iopub.execute_input": "2025-05-15T05:54:10.647357Z",
     "iopub.status.busy": "2025-05-15T05:54:10.646998Z",
     "iopub.status.idle": "2025-05-15T05:54:10.652832Z",
     "shell.execute_reply": "2025-05-15T05:54:10.651974Z",
     "shell.execute_reply.started": "2025-05-15T05:54:10.647327Z"
    },
    "jupyter": {
     "outputs_hidden": false
    },
    "trusted": true
   },
   "outputs": [],
   "source": [
    "# Convert labels to one-hot if using softmax output\n",
    "num_classes = len(np.unique(y_encoded))\n",
    "y_categorical = tf.keras.utils.to_categorical(y_encoded, num_classes=num_classes)"
   ]
  },
  {
   "cell_type": "code",
   "execution_count": 21,
   "metadata": {
    "_cell_guid": "e8713b34-073b-4eaf-b108-f5425bbaf52a",
    "_uuid": "833bf16b-14de-4ef0-b5a6-b5a41e53c22a",
    "collapsed": false,
    "execution": {
     "iopub.execute_input": "2025-05-15T05:54:11.578154Z",
     "iopub.status.busy": "2025-05-15T05:54:11.577231Z",
     "iopub.status.idle": "2025-05-15T05:54:11.584769Z",
     "shell.execute_reply": "2025-05-15T05:54:11.583880Z",
     "shell.execute_reply.started": "2025-05-15T05:54:11.578130Z"
    },
    "jupyter": {
     "outputs_hidden": false
    },
    "trusted": true
   },
   "outputs": [],
   "source": [
    "# Split\n",
    "X_train, X_test, y_train, y_test = train_test_split(X_cnn, y_categorical, test_size=0.2, random_state=42)"
   ]
  },
  {
   "cell_type": "code",
   "execution_count": 22,
   "metadata": {
    "_cell_guid": "618c86c2-6d6c-4871-9884-07955989a8f6",
    "_uuid": "809cdcc1-12ec-47de-b62d-d9810bc31cc9",
    "collapsed": false,
    "execution": {
     "iopub.execute_input": "2025-05-15T05:54:23.528998Z",
     "iopub.status.busy": "2025-05-15T05:54:23.528612Z",
     "iopub.status.idle": "2025-05-15T05:56:53.421870Z",
     "shell.execute_reply": "2025-05-15T05:56:53.420709Z",
     "shell.execute_reply.started": "2025-05-15T05:54:23.528964Z"
    },
    "jupyter": {
     "outputs_hidden": false
    },
    "trusted": true
   },
   "outputs": [
    {
     "name": "stdout",
     "output_type": "stream",
     "text": [
      "Epoch 1/100\n"
     ]
    },
    {
     "name": "stderr",
     "output_type": "stream",
     "text": [
      "/home/mehnoor/Projects/exoplanet-detection/venv/lib/python3.12/site-packages/keras/src/layers/convolutional/base_conv.py:107: UserWarning: Do not pass an `input_shape`/`input_dim` argument to a layer. When using Sequential models, prefer using an `Input(shape)` object as the first layer in the model instead.\n",
      "  super().__init__(activity_regularizer=activity_regularizer, **kwargs)\n",
      "W0000 00:00:1747296032.597740   27847 gpu_device.cc:2341] Cannot dlopen some GPU libraries. Please make sure the missing libraries mentioned above are installed properly if you would like to use GPU. Follow the guide at https://www.tensorflow.org/install/gpu for how to download and setup the required libraries for your platform.\n",
      "Skipping registering GPU devices...\n"
     ]
    },
    {
     "name": "stdout",
     "output_type": "stream",
     "text": [
      "\u001b[1m200/200\u001b[0m \u001b[32m━━━━━━━━━━━━━━━━━━━━\u001b[0m\u001b[37m\u001b[0m \u001b[1m3s\u001b[0m 5ms/step - accuracy: 0.5353 - auc: 0.7161 - loss: 1.0934 - precision: 0.5827 - recall: 0.4369 - val_accuracy: 0.4816 - val_auc: 0.6504 - val_loss: 1.5948 - val_precision: 0.4816 - val_recall: 0.4816 - learning_rate: 0.0010\n",
      "Epoch 2/100\n",
      "\u001b[1m200/200\u001b[0m \u001b[32m━━━━━━━━━━━━━━━━━━━━\u001b[0m\u001b[37m\u001b[0m \u001b[1m1s\u001b[0m 4ms/step - accuracy: 0.6238 - auc: 0.7904 - loss: 0.8545 - precision: 0.7089 - recall: 0.4627 - val_accuracy: 0.4816 - val_auc: 0.7100 - val_loss: 1.5360 - val_precision: 0.4816 - val_recall: 0.4816 - learning_rate: 0.0010\n",
      "Epoch 3/100\n",
      "\u001b[1m200/200\u001b[0m \u001b[32m━━━━━━━━━━━━━━━━━━━━\u001b[0m\u001b[37m\u001b[0m \u001b[1m1s\u001b[0m 4ms/step - accuracy: 0.6444 - auc: 0.8064 - loss: 0.8274 - precision: 0.7195 - recall: 0.4895 - val_accuracy: 0.6316 - val_auc: 0.7996 - val_loss: 0.8334 - val_precision: 0.6829 - val_recall: 0.4309 - learning_rate: 0.0010\n",
      "Epoch 4/100\n",
      "\u001b[1m200/200\u001b[0m \u001b[32m━━━━━━━━━━━━━━━━━━━━\u001b[0m\u001b[37m\u001b[0m \u001b[1m1s\u001b[0m 3ms/step - accuracy: 0.6584 - auc: 0.8174 - loss: 0.8051 - precision: 0.7252 - recall: 0.5295 - val_accuracy: 0.6842 - val_auc: 0.8467 - val_loss: 0.7671 - val_precision: 0.7969 - val_recall: 0.4809 - learning_rate: 0.0010\n",
      "Epoch 5/100\n",
      "\u001b[1m200/200\u001b[0m \u001b[32m━━━━━━━━━━━━━━━━━━━━\u001b[0m\u001b[37m\u001b[0m \u001b[1m1s\u001b[0m 3ms/step - accuracy: 0.6721 - auc: 0.8243 - loss: 0.7911 - precision: 0.7275 - recall: 0.5422 - val_accuracy: 0.6873 - val_auc: 0.8444 - val_loss: 0.7511 - val_precision: 0.7551 - val_recall: 0.5841 - learning_rate: 0.0010\n",
      "Epoch 6/100\n",
      "\u001b[1m200/200\u001b[0m \u001b[32m━━━━━━━━━━━━━━━━━━━━\u001b[0m\u001b[37m\u001b[0m \u001b[1m1s\u001b[0m 3ms/step - accuracy: 0.6584 - auc: 0.8251 - loss: 0.7889 - precision: 0.7210 - recall: 0.5479 - val_accuracy: 0.7004 - val_auc: 0.8516 - val_loss: 0.7422 - val_precision: 0.7889 - val_recall: 0.5328 - learning_rate: 0.0010\n",
      "Epoch 7/100\n",
      "\u001b[1m200/200\u001b[0m \u001b[32m━━━━━━━━━━━━━━━━━━━━\u001b[0m\u001b[37m\u001b[0m \u001b[1m1s\u001b[0m 3ms/step - accuracy: 0.6655 - auc: 0.8264 - loss: 0.7877 - precision: 0.7305 - recall: 0.5461 - val_accuracy: 0.6204 - val_auc: 0.7944 - val_loss: 0.9000 - val_precision: 0.6495 - val_recall: 0.5053 - learning_rate: 0.0010\n",
      "Epoch 8/100\n",
      "\u001b[1m200/200\u001b[0m \u001b[32m━━━━━━━━━━━━━━━━━━━━\u001b[0m\u001b[37m\u001b[0m \u001b[1m1s\u001b[0m 3ms/step - accuracy: 0.6766 - auc: 0.8408 - loss: 0.7505 - precision: 0.7467 - recall: 0.5729 - val_accuracy: 0.7129 - val_auc: 0.8622 - val_loss: 0.7122 - val_precision: 0.7696 - val_recall: 0.6079 - learning_rate: 0.0010\n",
      "Epoch 9/100\n",
      "\u001b[1m200/200\u001b[0m \u001b[32m━━━━━━━━━━━━━━━━━━━━\u001b[0m\u001b[37m\u001b[0m \u001b[1m1s\u001b[0m 3ms/step - accuracy: 0.6830 - auc: 0.8404 - loss: 0.7531 - precision: 0.7356 - recall: 0.5868 - val_accuracy: 0.7117 - val_auc: 0.8662 - val_loss: 0.7029 - val_precision: 0.7594 - val_recall: 0.6435 - learning_rate: 0.0010\n",
      "Epoch 10/100\n",
      "\u001b[1m200/200\u001b[0m \u001b[32m━━━━━━━━━━━━━━━━━━━━\u001b[0m\u001b[37m\u001b[0m \u001b[1m1s\u001b[0m 3ms/step - accuracy: 0.6686 - auc: 0.8351 - loss: 0.7617 - precision: 0.7332 - recall: 0.5618 - val_accuracy: 0.6961 - val_auc: 0.8572 - val_loss: 0.7213 - val_precision: 0.7492 - val_recall: 0.6223 - learning_rate: 0.0010\n",
      "Epoch 11/100\n",
      "\u001b[1m200/200\u001b[0m \u001b[32m━━━━━━━━━━━━━━━━━━━━\u001b[0m\u001b[37m\u001b[0m \u001b[1m1s\u001b[0m 3ms/step - accuracy: 0.6720 - auc: 0.8357 - loss: 0.7665 - precision: 0.7303 - recall: 0.5793 - val_accuracy: 0.6717 - val_auc: 0.8404 - val_loss: 0.7539 - val_precision: 0.7492 - val_recall: 0.5716 - learning_rate: 0.0010\n",
      "Epoch 12/100\n",
      "\u001b[1m200/200\u001b[0m \u001b[32m━━━━━━━━━━━━━━━━━━━━\u001b[0m\u001b[37m\u001b[0m \u001b[1m1s\u001b[0m 3ms/step - accuracy: 0.6845 - auc: 0.8417 - loss: 0.7508 - precision: 0.7422 - recall: 0.5820 - val_accuracy: 0.7223 - val_auc: 0.8671 - val_loss: 0.6915 - val_precision: 0.7594 - val_recall: 0.6592 - learning_rate: 0.0010\n",
      "Epoch 13/100\n",
      "\u001b[1m200/200\u001b[0m \u001b[32m━━━━━━━━━━━━━━━━━━━━\u001b[0m\u001b[37m\u001b[0m \u001b[1m1s\u001b[0m 3ms/step - accuracy: 0.6871 - auc: 0.8470 - loss: 0.7465 - precision: 0.7409 - recall: 0.6079 - val_accuracy: 0.7255 - val_auc: 0.8727 - val_loss: 0.6856 - val_precision: 0.7664 - val_recall: 0.6504 - learning_rate: 0.0010\n",
      "Epoch 14/100\n",
      "\u001b[1m200/200\u001b[0m \u001b[32m━━━━━━━━━━━━━━━━━━━━\u001b[0m\u001b[37m\u001b[0m \u001b[1m1s\u001b[0m 3ms/step - accuracy: 0.6818 - auc: 0.8440 - loss: 0.7496 - precision: 0.7434 - recall: 0.5873 - val_accuracy: 0.7173 - val_auc: 0.8700 - val_loss: 0.7010 - val_precision: 0.7778 - val_recall: 0.6129 - learning_rate: 0.0010\n",
      "Epoch 15/100\n",
      "\u001b[1m200/200\u001b[0m \u001b[32m━━━━━━━━━━━━━━━━━━━━\u001b[0m\u001b[37m\u001b[0m \u001b[1m1s\u001b[0m 3ms/step - accuracy: 0.6977 - auc: 0.8513 - loss: 0.7328 - precision: 0.7555 - recall: 0.6060 - val_accuracy: 0.7123 - val_auc: 0.8653 - val_loss: 0.7009 - val_precision: 0.7685 - val_recall: 0.6373 - learning_rate: 0.0010\n",
      "Epoch 16/100\n",
      "\u001b[1m200/200\u001b[0m \u001b[32m━━━━━━━━━━━━━━━━━━━━\u001b[0m\u001b[37m\u001b[0m \u001b[1m1s\u001b[0m 3ms/step - accuracy: 0.7072 - auc: 0.8539 - loss: 0.7270 - precision: 0.7572 - recall: 0.6206 - val_accuracy: 0.7086 - val_auc: 0.8628 - val_loss: 0.7121 - val_precision: 0.7847 - val_recall: 0.5766 - learning_rate: 0.0010\n",
      "Epoch 17/100\n",
      "\u001b[1m200/200\u001b[0m \u001b[32m━━━━━━━━━━━━━━━━━━━━\u001b[0m\u001b[37m\u001b[0m \u001b[1m1s\u001b[0m 3ms/step - accuracy: 0.7010 - auc: 0.8555 - loss: 0.7240 - precision: 0.7603 - recall: 0.6032 - val_accuracy: 0.7248 - val_auc: 0.8722 - val_loss: 0.6827 - val_precision: 0.7732 - val_recall: 0.6460 - learning_rate: 0.0010\n",
      "Epoch 18/100\n",
      "\u001b[1m200/200\u001b[0m \u001b[32m━━━━━━━━━━━━━━━━━━━━\u001b[0m\u001b[37m\u001b[0m \u001b[1m1s\u001b[0m 3ms/step - accuracy: 0.6972 - auc: 0.8594 - loss: 0.7145 - precision: 0.7582 - recall: 0.6258 - val_accuracy: 0.6579 - val_auc: 0.8240 - val_loss: 0.7976 - val_precision: 0.7202 - val_recall: 0.5247 - learning_rate: 0.0010\n",
      "Epoch 19/100\n",
      "\u001b[1m200/200\u001b[0m \u001b[32m━━━━━━━━━━━━━━━━━━━━\u001b[0m\u001b[37m\u001b[0m \u001b[1m1s\u001b[0m 3ms/step - accuracy: 0.7037 - auc: 0.8557 - loss: 0.7262 - precision: 0.7653 - recall: 0.6069 - val_accuracy: 0.6717 - val_auc: 0.8342 - val_loss: 0.7857 - val_precision: 0.6973 - val_recall: 0.6066 - learning_rate: 0.0010\n",
      "Epoch 20/100\n",
      "\u001b[1m200/200\u001b[0m \u001b[32m━━━━━━━━━━━━━━━━━━━━\u001b[0m\u001b[37m\u001b[0m \u001b[1m1s\u001b[0m 3ms/step - accuracy: 0.6993 - auc: 0.8575 - loss: 0.7171 - precision: 0.7501 - recall: 0.6221 - val_accuracy: 0.7342 - val_auc: 0.8827 - val_loss: 0.6636 - val_precision: 0.7918 - val_recall: 0.6729 - learning_rate: 0.0010\n",
      "Epoch 21/100\n",
      "\u001b[1m200/200\u001b[0m \u001b[32m━━━━━━━━━━━━━━━━━━━━\u001b[0m\u001b[37m\u001b[0m \u001b[1m1s\u001b[0m 3ms/step - accuracy: 0.6958 - auc: 0.8546 - loss: 0.7316 - precision: 0.7482 - recall: 0.6160 - val_accuracy: 0.7373 - val_auc: 0.8867 - val_loss: 0.6484 - val_precision: 0.7837 - val_recall: 0.6867 - learning_rate: 0.0010\n",
      "Epoch 22/100\n",
      "\u001b[1m200/200\u001b[0m \u001b[32m━━━━━━━━━━━━━━━━━━━━\u001b[0m\u001b[37m\u001b[0m \u001b[1m1s\u001b[0m 4ms/step - accuracy: 0.7076 - auc: 0.8605 - loss: 0.7137 - precision: 0.7573 - recall: 0.6152 - val_accuracy: 0.7192 - val_auc: 0.8786 - val_loss: 0.6787 - val_precision: 0.7655 - val_recall: 0.6554 - learning_rate: 0.0010\n",
      "Epoch 23/100\n",
      "\u001b[1m200/200\u001b[0m \u001b[32m━━━━━━━━━━━━━━━━━━━━\u001b[0m\u001b[37m\u001b[0m \u001b[1m1s\u001b[0m 3ms/step - accuracy: 0.6966 - auc: 0.8562 - loss: 0.7220 - precision: 0.7531 - recall: 0.6199 - val_accuracy: 0.7348 - val_auc: 0.8896 - val_loss: 0.6408 - val_precision: 0.7800 - val_recall: 0.6917 - learning_rate: 0.0010\n",
      "Epoch 24/100\n",
      "\u001b[1m200/200\u001b[0m \u001b[32m━━━━━━━━━━━━━━━━━━━━\u001b[0m\u001b[37m\u001b[0m \u001b[1m1s\u001b[0m 3ms/step - accuracy: 0.7038 - auc: 0.8637 - loss: 0.7046 - precision: 0.7581 - recall: 0.6239 - val_accuracy: 0.7261 - val_auc: 0.8764 - val_loss: 0.6767 - val_precision: 0.7847 - val_recall: 0.6266 - learning_rate: 0.0010\n",
      "Epoch 25/100\n",
      "\u001b[1m200/200\u001b[0m \u001b[32m━━━━━━━━━━━━━━━━━━━━\u001b[0m\u001b[37m\u001b[0m \u001b[1m1s\u001b[0m 3ms/step - accuracy: 0.7135 - auc: 0.8695 - loss: 0.6923 - precision: 0.7638 - recall: 0.6409 - val_accuracy: 0.6310 - val_auc: 0.7983 - val_loss: 0.9473 - val_precision: 0.6631 - val_recall: 0.5785 - learning_rate: 0.0010\n",
      "Epoch 26/100\n",
      "\u001b[1m200/200\u001b[0m \u001b[32m━━━━━━━━━━━━━━━━━━━━\u001b[0m\u001b[37m\u001b[0m \u001b[1m1s\u001b[0m 3ms/step - accuracy: 0.7076 - auc: 0.8695 - loss: 0.6893 - precision: 0.7703 - recall: 0.6301 - val_accuracy: 0.6979 - val_auc: 0.8522 - val_loss: 0.7747 - val_precision: 0.7243 - val_recall: 0.6573 - learning_rate: 0.0010\n",
      "Epoch 27/100\n",
      "\u001b[1m200/200\u001b[0m \u001b[32m━━━━━━━━━━━━━━━━━━━━\u001b[0m\u001b[37m\u001b[0m \u001b[1m1s\u001b[0m 3ms/step - accuracy: 0.7065 - auc: 0.8654 - loss: 0.7008 - precision: 0.7657 - recall: 0.6195 - val_accuracy: 0.7405 - val_auc: 0.8945 - val_loss: 0.6283 - val_precision: 0.7841 - val_recall: 0.7017 - learning_rate: 0.0010\n",
      "Epoch 28/100\n",
      "\u001b[1m200/200\u001b[0m \u001b[32m━━━━━━━━━━━━━━━━━━━━\u001b[0m\u001b[37m\u001b[0m \u001b[1m1s\u001b[0m 3ms/step - accuracy: 0.7178 - auc: 0.8710 - loss: 0.6894 - precision: 0.7705 - recall: 0.6359 - val_accuracy: 0.6717 - val_auc: 0.8415 - val_loss: 0.7833 - val_precision: 0.7020 - val_recall: 0.6216 - learning_rate: 0.0010\n",
      "Epoch 29/100\n",
      "\u001b[1m200/200\u001b[0m \u001b[32m━━━━━━━━━━━━━━━━━━━━\u001b[0m\u001b[37m\u001b[0m \u001b[1m1s\u001b[0m 3ms/step - accuracy: 0.7026 - auc: 0.8640 - loss: 0.7117 - precision: 0.7671 - recall: 0.6111 - val_accuracy: 0.6792 - val_auc: 0.8560 - val_loss: 0.7722 - val_precision: 0.7116 - val_recall: 0.6467 - learning_rate: 0.0010\n",
      "Epoch 30/100\n",
      "\u001b[1m200/200\u001b[0m \u001b[32m━━━━━━━━━━━━━━━━━━━━\u001b[0m\u001b[37m\u001b[0m \u001b[1m1s\u001b[0m 3ms/step - accuracy: 0.7057 - auc: 0.8703 - loss: 0.6893 - precision: 0.7682 - recall: 0.6312 - val_accuracy: 0.7186 - val_auc: 0.8742 - val_loss: 0.6823 - val_precision: 0.7992 - val_recall: 0.5972 - learning_rate: 0.0010\n",
      "Epoch 31/100\n",
      "\u001b[1m200/200\u001b[0m \u001b[32m━━━━━━━━━━━━━━━━━━━━\u001b[0m\u001b[37m\u001b[0m \u001b[1m1s\u001b[0m 3ms/step - accuracy: 0.7254 - auc: 0.8785 - loss: 0.6703 - precision: 0.7892 - recall: 0.6387 - val_accuracy: 0.7292 - val_auc: 0.8887 - val_loss: 0.6449 - val_precision: 0.8014 - val_recall: 0.6385 - learning_rate: 0.0010\n",
      "Epoch 32/100\n",
      "\u001b[1m199/200\u001b[0m \u001b[32m━━━━━━━━━━━━━━━━━━━\u001b[0m\u001b[37m━\u001b[0m \u001b[1m0s\u001b[0m 3ms/step - accuracy: 0.7179 - auc: 0.8754 - loss: 0.6778 - precision: 0.7803 - recall: 0.6235\n",
      "Epoch 32: ReduceLROnPlateau reducing learning rate to 0.0005000000237487257.\n",
      "\u001b[1m200/200\u001b[0m \u001b[32m━━━━━━━━━━━━━━━━━━━━\u001b[0m\u001b[37m\u001b[0m \u001b[1m1s\u001b[0m 3ms/step - accuracy: 0.7179 - auc: 0.8755 - loss: 0.6777 - precision: 0.7803 - recall: 0.6235 - val_accuracy: 0.7267 - val_auc: 0.8895 - val_loss: 0.6587 - val_precision: 0.8353 - val_recall: 0.5804 - learning_rate: 0.0010\n",
      "Epoch 33/100\n",
      "\u001b[1m200/200\u001b[0m \u001b[32m━━━━━━━━━━━━━━━━━━━━\u001b[0m\u001b[37m\u001b[0m \u001b[1m1s\u001b[0m 3ms/step - accuracy: 0.7196 - auc: 0.8765 - loss: 0.6753 - precision: 0.7774 - recall: 0.6243 - val_accuracy: 0.7417 - val_auc: 0.9023 - val_loss: 0.6048 - val_precision: 0.7965 - val_recall: 0.6854 - learning_rate: 5.0000e-04\n",
      "Epoch 34/100\n",
      "\u001b[1m200/200\u001b[0m \u001b[32m━━━━━━━━━━━━━━━━━━━━\u001b[0m\u001b[37m\u001b[0m \u001b[1m1s\u001b[0m 3ms/step - accuracy: 0.7325 - auc: 0.8904 - loss: 0.6382 - precision: 0.7970 - recall: 0.6463 - val_accuracy: 0.7330 - val_auc: 0.8953 - val_loss: 0.6339 - val_precision: 0.7691 - val_recall: 0.6998 - learning_rate: 5.0000e-04\n",
      "Epoch 35/100\n",
      "\u001b[1m200/200\u001b[0m \u001b[32m━━━━━━━━━━━━━━━━━━━━\u001b[0m\u001b[37m\u001b[0m \u001b[1m1s\u001b[0m 4ms/step - accuracy: 0.7176 - auc: 0.8846 - loss: 0.6525 - precision: 0.8021 - recall: 0.6392 - val_accuracy: 0.7511 - val_auc: 0.9055 - val_loss: 0.5953 - val_precision: 0.8020 - val_recall: 0.6917 - learning_rate: 5.0000e-04\n",
      "Epoch 36/100\n",
      "\u001b[1m200/200\u001b[0m \u001b[32m━━━━━━━━━━━━━━━━━━━━\u001b[0m\u001b[37m\u001b[0m \u001b[1m1s\u001b[0m 3ms/step - accuracy: 0.7260 - auc: 0.8904 - loss: 0.6415 - precision: 0.8026 - recall: 0.6425 - val_accuracy: 0.7442 - val_auc: 0.9036 - val_loss: 0.6019 - val_precision: 0.8067 - val_recall: 0.6917 - learning_rate: 5.0000e-04\n",
      "Epoch 37/100\n",
      "\u001b[1m200/200\u001b[0m \u001b[32m━━━━━━━━━━━━━━━━━━━━\u001b[0m\u001b[37m\u001b[0m \u001b[1m1s\u001b[0m 3ms/step - accuracy: 0.7253 - auc: 0.8850 - loss: 0.6529 - precision: 0.8012 - recall: 0.6414 - val_accuracy: 0.7536 - val_auc: 0.9096 - val_loss: 0.5850 - val_precision: 0.8366 - val_recall: 0.6723 - learning_rate: 5.0000e-04\n",
      "Epoch 38/100\n",
      "\u001b[1m200/200\u001b[0m \u001b[32m━━━━━━━━━━━━━━━━━━━━\u001b[0m\u001b[37m\u001b[0m \u001b[1m1s\u001b[0m 3ms/step - accuracy: 0.7327 - auc: 0.8924 - loss: 0.6366 - precision: 0.8090 - recall: 0.6474 - val_accuracy: 0.7536 - val_auc: 0.9103 - val_loss: 0.5813 - val_precision: 0.8225 - val_recall: 0.6811 - learning_rate: 5.0000e-04\n",
      "Epoch 39/100\n",
      "\u001b[1m200/200\u001b[0m \u001b[32m━━━━━━━━━━━━━━━━━━━━\u001b[0m\u001b[37m\u001b[0m \u001b[1m1s\u001b[0m 3ms/step - accuracy: 0.7278 - auc: 0.8925 - loss: 0.6320 - precision: 0.8158 - recall: 0.6382 - val_accuracy: 0.7455 - val_auc: 0.9040 - val_loss: 0.6006 - val_precision: 0.8144 - val_recall: 0.6723 - learning_rate: 5.0000e-04\n",
      "Epoch 40/100\n",
      "\u001b[1m200/200\u001b[0m \u001b[32m━━━━━━━━━━━━━━━━━━━━\u001b[0m\u001b[37m\u001b[0m \u001b[1m1s\u001b[0m 3ms/step - accuracy: 0.7269 - auc: 0.8884 - loss: 0.6424 - precision: 0.8076 - recall: 0.6370 - val_accuracy: 0.7442 - val_auc: 0.9072 - val_loss: 0.5932 - val_precision: 0.7894 - val_recall: 0.6986 - learning_rate: 5.0000e-04\n",
      "Epoch 41/100\n",
      "\u001b[1m200/200\u001b[0m \u001b[32m━━━━━━━━━━━━━━━━━━━━\u001b[0m\u001b[37m\u001b[0m \u001b[1m1s\u001b[0m 3ms/step - accuracy: 0.7365 - auc: 0.8895 - loss: 0.6429 - precision: 0.8076 - recall: 0.6461 - val_accuracy: 0.7548 - val_auc: 0.9066 - val_loss: 0.5970 - val_precision: 0.8491 - val_recall: 0.6335 - learning_rate: 5.0000e-04\n",
      "Epoch 42/100\n",
      "\u001b[1m200/200\u001b[0m \u001b[32m━━━━━━━━━━━━━━━━━━━━\u001b[0m\u001b[37m\u001b[0m \u001b[1m1s\u001b[0m 3ms/step - accuracy: 0.7408 - auc: 0.8917 - loss: 0.6381 - precision: 0.8064 - recall: 0.6509 - val_accuracy: 0.7661 - val_auc: 0.9149 - val_loss: 0.5669 - val_precision: 0.8321 - val_recall: 0.6817 - learning_rate: 5.0000e-04\n",
      "Epoch 43/100\n",
      "\u001b[1m200/200\u001b[0m \u001b[32m━━━━━━━━━━━━━━━━━━━━\u001b[0m\u001b[37m\u001b[0m \u001b[1m1s\u001b[0m 3ms/step - accuracy: 0.7372 - auc: 0.8942 - loss: 0.6278 - precision: 0.8012 - recall: 0.6487 - val_accuracy: 0.7555 - val_auc: 0.9111 - val_loss: 0.5813 - val_precision: 0.8084 - val_recall: 0.7017 - learning_rate: 5.0000e-04\n",
      "Epoch 44/100\n",
      "\u001b[1m200/200\u001b[0m \u001b[32m━━━━━━━━━━━━━━━━━━━━\u001b[0m\u001b[37m\u001b[0m \u001b[1m1s\u001b[0m 3ms/step - accuracy: 0.7274 - auc: 0.8931 - loss: 0.6303 - precision: 0.8054 - recall: 0.6454 - val_accuracy: 0.7530 - val_auc: 0.9137 - val_loss: 0.5708 - val_precision: 0.8134 - val_recall: 0.7142 - learning_rate: 5.0000e-04\n",
      "Epoch 45/100\n",
      "\u001b[1m200/200\u001b[0m \u001b[32m━━━━━━━━━━━━━━━━━━━━\u001b[0m\u001b[37m\u001b[0m \u001b[1m1s\u001b[0m 3ms/step - accuracy: 0.7488 - auc: 0.8973 - loss: 0.6221 - precision: 0.8117 - recall: 0.6646 - val_accuracy: 0.7586 - val_auc: 0.9113 - val_loss: 0.5788 - val_precision: 0.8152 - val_recall: 0.6898 - learning_rate: 5.0000e-04\n",
      "Epoch 46/100\n",
      "\u001b[1m200/200\u001b[0m \u001b[32m━━━━━━━━━━━━━━━━━━━━\u001b[0m\u001b[37m\u001b[0m \u001b[1m1s\u001b[0m 3ms/step - accuracy: 0.7380 - auc: 0.8949 - loss: 0.6285 - precision: 0.8142 - recall: 0.6548 - val_accuracy: 0.7749 - val_auc: 0.9119 - val_loss: 0.5760 - val_precision: 0.8202 - val_recall: 0.6848 - learning_rate: 5.0000e-04\n",
      "Epoch 47/100\n",
      "\u001b[1m200/200\u001b[0m \u001b[32m━━━━━━━━━━━━━━━━━━━━\u001b[0m\u001b[37m\u001b[0m \u001b[1m1s\u001b[0m 3ms/step - accuracy: 0.7514 - auc: 0.8996 - loss: 0.6165 - precision: 0.8196 - recall: 0.6688 - val_accuracy: 0.7817 - val_auc: 0.9207 - val_loss: 0.5485 - val_precision: 0.8296 - val_recall: 0.7004 - learning_rate: 5.0000e-04\n",
      "Epoch 48/100\n",
      "\u001b[1m200/200\u001b[0m \u001b[32m━━━━━━━━━━━━━━━━━━━━\u001b[0m\u001b[37m\u001b[0m \u001b[1m1s\u001b[0m 3ms/step - accuracy: 0.7592 - auc: 0.9044 - loss: 0.6000 - precision: 0.8140 - recall: 0.6824 - val_accuracy: 0.7736 - val_auc: 0.9200 - val_loss: 0.5498 - val_precision: 0.8313 - val_recall: 0.6967 - learning_rate: 5.0000e-04\n",
      "Epoch 49/100\n",
      "\u001b[1m200/200\u001b[0m \u001b[32m━━━━━━━━━━━━━━━━━━━━\u001b[0m\u001b[37m\u001b[0m \u001b[1m1s\u001b[0m 3ms/step - accuracy: 0.7594 - auc: 0.9066 - loss: 0.5932 - precision: 0.8242 - recall: 0.6828 - val_accuracy: 0.7780 - val_auc: 0.9205 - val_loss: 0.5487 - val_precision: 0.8318 - val_recall: 0.6992 - learning_rate: 5.0000e-04\n",
      "Epoch 50/100\n",
      "\u001b[1m200/200\u001b[0m \u001b[32m━━━━━━━━━━━━━━━━━━━━\u001b[0m\u001b[37m\u001b[0m \u001b[1m1s\u001b[0m 4ms/step - accuracy: 0.7516 - auc: 0.9023 - loss: 0.6063 - precision: 0.8172 - recall: 0.6788 - val_accuracy: 0.7617 - val_auc: 0.9150 - val_loss: 0.5643 - val_precision: 0.8254 - val_recall: 0.6948 - learning_rate: 5.0000e-04\n",
      "Epoch 51/100\n",
      "\u001b[1m200/200\u001b[0m \u001b[32m━━━━━━━━━━━━━━━━━━━━\u001b[0m\u001b[37m\u001b[0m \u001b[1m1s\u001b[0m 3ms/step - accuracy: 0.7478 - auc: 0.9026 - loss: 0.6051 - precision: 0.8179 - recall: 0.6728 - val_accuracy: 0.7705 - val_auc: 0.9146 - val_loss: 0.5694 - val_precision: 0.8338 - val_recall: 0.6842 - learning_rate: 5.0000e-04\n",
      "Epoch 52/100\n",
      "\u001b[1m190/200\u001b[0m \u001b[32m━━━━━━━━━━━━━━━━━━━\u001b[0m\u001b[37m━\u001b[0m \u001b[1m0s\u001b[0m 2ms/step - accuracy: 0.7582 - auc: 0.9036 - loss: 0.5998 - precision: 0.8150 - recall: 0.6739\n",
      "Epoch 52: ReduceLROnPlateau reducing learning rate to 0.0002500000118743628.\n",
      "\u001b[1m200/200\u001b[0m \u001b[32m━━━━━━━━━━━━━━━━━━━━\u001b[0m\u001b[37m\u001b[0m \u001b[1m1s\u001b[0m 3ms/step - accuracy: 0.7580 - auc: 0.9035 - loss: 0.6001 - precision: 0.8151 - recall: 0.6740 - val_accuracy: 0.7630 - val_auc: 0.9116 - val_loss: 0.5768 - val_precision: 0.8125 - val_recall: 0.7098 - learning_rate: 5.0000e-04\n",
      "Epoch 53/100\n",
      "\u001b[1m200/200\u001b[0m \u001b[32m━━━━━━━━━━━━━━━━━━━━\u001b[0m\u001b[37m\u001b[0m \u001b[1m1s\u001b[0m 3ms/step - accuracy: 0.7609 - auc: 0.9062 - loss: 0.5952 - precision: 0.8187 - recall: 0.6791 - val_accuracy: 0.7523 - val_auc: 0.9113 - val_loss: 0.5756 - val_precision: 0.8145 - val_recall: 0.6892 - learning_rate: 2.5000e-04\n",
      "Epoch 54/100\n",
      "\u001b[1m200/200\u001b[0m \u001b[32m━━━━━━━━━━━━━━━━━━━━\u001b[0m\u001b[37m\u001b[0m \u001b[1m1s\u001b[0m 3ms/step - accuracy: 0.7580 - auc: 0.9007 - loss: 0.6116 - precision: 0.8092 - recall: 0.6714 - val_accuracy: 0.7911 - val_auc: 0.9238 - val_loss: 0.5369 - val_precision: 0.8333 - val_recall: 0.7161 - learning_rate: 2.5000e-04\n",
      "Epoch 55/100\n",
      "\u001b[1m200/200\u001b[0m \u001b[32m━━━━━━━━━━━━━━━━━━━━\u001b[0m\u001b[37m\u001b[0m \u001b[1m1s\u001b[0m 3ms/step - accuracy: 0.7589 - auc: 0.9032 - loss: 0.6022 - precision: 0.8133 - recall: 0.6724 - val_accuracy: 0.7992 - val_auc: 0.9235 - val_loss: 0.5382 - val_precision: 0.8391 - val_recall: 0.7173 - learning_rate: 2.5000e-04\n",
      "Epoch 56/100\n",
      "\u001b[1m200/200\u001b[0m \u001b[32m━━━━━━━━━━━━━━━━━━━━\u001b[0m\u001b[37m\u001b[0m \u001b[1m1s\u001b[0m 3ms/step - accuracy: 0.7705 - auc: 0.9103 - loss: 0.5820 - precision: 0.8274 - recall: 0.6963 - val_accuracy: 0.7967 - val_auc: 0.9266 - val_loss: 0.5284 - val_precision: 0.8413 - val_recall: 0.7192 - learning_rate: 2.5000e-04\n",
      "Epoch 57/100\n",
      "\u001b[1m200/200\u001b[0m \u001b[32m━━━━━━━━━━━━━━━━━━━━\u001b[0m\u001b[37m\u001b[0m \u001b[1m1s\u001b[0m 3ms/step - accuracy: 0.7529 - auc: 0.9034 - loss: 0.6031 - precision: 0.8010 - recall: 0.6742 - val_accuracy: 0.7924 - val_auc: 0.9256 - val_loss: 0.5284 - val_precision: 0.8349 - val_recall: 0.7305 - learning_rate: 2.5000e-04\n",
      "Epoch 58/100\n",
      "\u001b[1m200/200\u001b[0m \u001b[32m━━━━━━━━━━━━━━━━━━━━\u001b[0m\u001b[37m\u001b[0m \u001b[1m1s\u001b[0m 3ms/step - accuracy: 0.7607 - auc: 0.9100 - loss: 0.5826 - precision: 0.8144 - recall: 0.6881 - val_accuracy: 0.8061 - val_auc: 0.9285 - val_loss: 0.5224 - val_precision: 0.8509 - val_recall: 0.7211 - learning_rate: 2.5000e-04\n",
      "Epoch 59/100\n",
      "\u001b[1m200/200\u001b[0m \u001b[32m━━━━━━━━━━━━━━━━━━━━\u001b[0m\u001b[37m\u001b[0m \u001b[1m1s\u001b[0m 3ms/step - accuracy: 0.7615 - auc: 0.9076 - loss: 0.5916 - precision: 0.8141 - recall: 0.6816 - val_accuracy: 0.7573 - val_auc: 0.9150 - val_loss: 0.5638 - val_precision: 0.8169 - val_recall: 0.7086 - learning_rate: 2.5000e-04\n",
      "Epoch 60/100\n",
      "\u001b[1m200/200\u001b[0m \u001b[32m━━━━━━━━━━━━━━━━━━━━\u001b[0m\u001b[37m\u001b[0m \u001b[1m1s\u001b[0m 3ms/step - accuracy: 0.7583 - auc: 0.9073 - loss: 0.5882 - precision: 0.8126 - recall: 0.6791 - val_accuracy: 0.8005 - val_auc: 0.9267 - val_loss: 0.5247 - val_precision: 0.8289 - val_recall: 0.7330 - learning_rate: 2.5000e-04\n",
      "Epoch 61/100\n",
      "\u001b[1m200/200\u001b[0m \u001b[32m━━━━━━━━━━━━━━━━━━━━\u001b[0m\u001b[37m\u001b[0m \u001b[1m1s\u001b[0m 3ms/step - accuracy: 0.7625 - auc: 0.9097 - loss: 0.5837 - precision: 0.8134 - recall: 0.6906 - val_accuracy: 0.7961 - val_auc: 0.9263 - val_loss: 0.5283 - val_precision: 0.8382 - val_recall: 0.7292 - learning_rate: 2.5000e-04\n",
      "Epoch 62/100\n",
      "\u001b[1m200/200\u001b[0m \u001b[32m━━━━━━━━━━━━━━━━━━━━\u001b[0m\u001b[37m\u001b[0m \u001b[1m1s\u001b[0m 3ms/step - accuracy: 0.7633 - auc: 0.9106 - loss: 0.5797 - precision: 0.8113 - recall: 0.6900 - val_accuracy: 0.7992 - val_auc: 0.9242 - val_loss: 0.5331 - val_precision: 0.8349 - val_recall: 0.7367 - learning_rate: 2.5000e-04\n",
      "Epoch 63/100\n",
      "\u001b[1m179/200\u001b[0m \u001b[32m━━━━━━━━━━━━━━━━━\u001b[0m\u001b[37m━━━\u001b[0m \u001b[1m0s\u001b[0m 2ms/step - accuracy: 0.7519 - auc: 0.8995 - loss: 0.6169 - precision: 0.8036 - recall: 0.6829\n",
      "Epoch 63: ReduceLROnPlateau reducing learning rate to 0.0001250000059371814.\n",
      "\u001b[1m200/200\u001b[0m \u001b[32m━━━━━━━━━━━━━━━━━━━━\u001b[0m\u001b[37m\u001b[0m \u001b[1m1s\u001b[0m 3ms/step - accuracy: 0.7531 - auc: 0.9004 - loss: 0.6140 - precision: 0.8049 - recall: 0.6839 - val_accuracy: 0.7867 - val_auc: 0.9248 - val_loss: 0.5317 - val_precision: 0.8285 - val_recall: 0.7311 - learning_rate: 2.5000e-04\n",
      "Epoch 64/100\n",
      "\u001b[1m200/200\u001b[0m \u001b[32m━━━━━━━━━━━━━━━━━━━━\u001b[0m\u001b[37m\u001b[0m \u001b[1m1s\u001b[0m 3ms/step - accuracy: 0.7758 - auc: 0.9153 - loss: 0.5651 - precision: 0.8224 - recall: 0.7056 - val_accuracy: 0.7861 - val_auc: 0.9253 - val_loss: 0.5305 - val_precision: 0.8280 - val_recall: 0.7348 - learning_rate: 1.2500e-04\n",
      "Epoch 65/100\n",
      "\u001b[1m200/200\u001b[0m \u001b[32m━━━━━━━━━━━━━━━━━━━━\u001b[0m\u001b[37m\u001b[0m \u001b[1m1s\u001b[0m 3ms/step - accuracy: 0.7717 - auc: 0.9105 - loss: 0.5806 - precision: 0.8172 - recall: 0.7039 - val_accuracy: 0.8036 - val_auc: 0.9287 - val_loss: 0.5186 - val_precision: 0.8400 - val_recall: 0.7386 - learning_rate: 1.2500e-04\n",
      "Epoch 66/100\n",
      "\u001b[1m200/200\u001b[0m \u001b[32m━━━━━━━━━━━━━━━━━━━━\u001b[0m\u001b[37m\u001b[0m \u001b[1m1s\u001b[0m 3ms/step - accuracy: 0.7685 - auc: 0.9099 - loss: 0.5844 - precision: 0.8125 - recall: 0.6982 - val_accuracy: 0.7999 - val_auc: 0.9286 - val_loss: 0.5192 - val_precision: 0.8423 - val_recall: 0.7448 - learning_rate: 1.2500e-04\n",
      "Epoch 67/100\n",
      "\u001b[1m200/200\u001b[0m \u001b[32m━━━━━━━━━━━━━━━━━━━━\u001b[0m\u001b[37m\u001b[0m \u001b[1m1s\u001b[0m 3ms/step - accuracy: 0.7714 - auc: 0.9137 - loss: 0.5686 - precision: 0.8232 - recall: 0.7053 - val_accuracy: 0.7942 - val_auc: 0.9257 - val_loss: 0.5286 - val_precision: 0.8320 - val_recall: 0.7342 - learning_rate: 1.2500e-04\n",
      "Epoch 68/100\n",
      "\u001b[1m200/200\u001b[0m \u001b[32m━━━━━━━━━━━━━━━━━━━━\u001b[0m\u001b[37m\u001b[0m \u001b[1m1s\u001b[0m 3ms/step - accuracy: 0.7676 - auc: 0.9120 - loss: 0.5730 - precision: 0.8127 - recall: 0.7038 - val_accuracy: 0.7930 - val_auc: 0.9273 - val_loss: 0.5229 - val_precision: 0.8404 - val_recall: 0.7473 - learning_rate: 1.2500e-04\n",
      "Epoch 69/100\n",
      "\u001b[1m200/200\u001b[0m \u001b[32m━━━━━━━━━━━━━━━━━━━━\u001b[0m\u001b[37m\u001b[0m \u001b[1m1s\u001b[0m 3ms/step - accuracy: 0.7570 - auc: 0.9090 - loss: 0.5852 - precision: 0.8101 - recall: 0.6960 - val_accuracy: 0.8130 - val_auc: 0.9308 - val_loss: 0.5116 - val_precision: 0.8439 - val_recall: 0.7405 - learning_rate: 1.2500e-04\n",
      "Epoch 70/100\n",
      "\u001b[1m200/200\u001b[0m \u001b[32m━━━━━━━━━━━━━━━━━━━━\u001b[0m\u001b[37m\u001b[0m \u001b[1m1s\u001b[0m 3ms/step - accuracy: 0.7721 - auc: 0.9113 - loss: 0.5775 - precision: 0.8244 - recall: 0.7117 - val_accuracy: 0.8018 - val_auc: 0.9297 - val_loss: 0.5149 - val_precision: 0.8396 - val_recall: 0.7367 - learning_rate: 1.2500e-04\n",
      "Epoch 71/100\n",
      "\u001b[1m200/200\u001b[0m \u001b[32m━━━━━━━━━━━━━━━━━━━━\u001b[0m\u001b[37m\u001b[0m \u001b[1m1s\u001b[0m 3ms/step - accuracy: 0.7650 - auc: 0.9098 - loss: 0.5837 - precision: 0.8165 - recall: 0.6932 - val_accuracy: 0.8074 - val_auc: 0.9304 - val_loss: 0.5125 - val_precision: 0.8430 - val_recall: 0.7423 - learning_rate: 1.2500e-04\n",
      "Epoch 72/100\n",
      "\u001b[1m200/200\u001b[0m \u001b[32m━━━━━━━━━━━━━━━━━━━━\u001b[0m\u001b[37m\u001b[0m \u001b[1m1s\u001b[0m 3ms/step - accuracy: 0.7729 - auc: 0.9147 - loss: 0.5668 - precision: 0.8216 - recall: 0.7113 - val_accuracy: 0.8005 - val_auc: 0.9289 - val_loss: 0.5177 - val_precision: 0.8404 - val_recall: 0.7442 - learning_rate: 1.2500e-04\n",
      "Epoch 73/100\n",
      "\u001b[1m200/200\u001b[0m \u001b[32m━━━━━━━━━━━━━━━━━━━━\u001b[0m\u001b[37m\u001b[0m \u001b[1m1s\u001b[0m 4ms/step - accuracy: 0.7645 - auc: 0.9068 - loss: 0.5913 - precision: 0.8178 - recall: 0.6954 - val_accuracy: 0.7942 - val_auc: 0.9285 - val_loss: 0.5176 - val_precision: 0.8346 - val_recall: 0.7448 - learning_rate: 1.2500e-04\n",
      "Epoch 74/100\n",
      "\u001b[1m187/200\u001b[0m \u001b[32m━━━━━━━━━━━━━━━━━━\u001b[0m\u001b[37m━━\u001b[0m \u001b[1m0s\u001b[0m 2ms/step - accuracy: 0.7724 - auc: 0.9129 - loss: 0.5735 - precision: 0.8233 - recall: 0.6965\n",
      "Epoch 74: ReduceLROnPlateau reducing learning rate to 6.25000029685907e-05.\n",
      "\u001b[1m200/200\u001b[0m \u001b[32m━━━━━━━━━━━━━━━━━━━━\u001b[0m\u001b[37m\u001b[0m \u001b[1m1s\u001b[0m 3ms/step - accuracy: 0.7720 - auc: 0.9128 - loss: 0.5741 - precision: 0.8231 - recall: 0.6963 - val_accuracy: 0.7892 - val_auc: 0.9261 - val_loss: 0.5274 - val_precision: 0.8265 - val_recall: 0.7298 - learning_rate: 1.2500e-04\n",
      "Epoch 75/100\n",
      "\u001b[1m200/200\u001b[0m \u001b[32m━━━━━━━━━━━━━━━━━━━━\u001b[0m\u001b[37m\u001b[0m \u001b[1m1s\u001b[0m 4ms/step - accuracy: 0.7697 - auc: 0.9119 - loss: 0.5741 - precision: 0.8211 - recall: 0.7046 - val_accuracy: 0.7961 - val_auc: 0.9288 - val_loss: 0.5170 - val_precision: 0.8404 - val_recall: 0.7442 - learning_rate: 6.2500e-05\n",
      "Epoch 76/100\n",
      "\u001b[1m200/200\u001b[0m \u001b[32m━━━━━━━━━━━━━━━━━━━━\u001b[0m\u001b[37m\u001b[0m \u001b[1m1s\u001b[0m 3ms/step - accuracy: 0.7761 - auc: 0.9122 - loss: 0.5748 - precision: 0.8204 - recall: 0.7005 - val_accuracy: 0.7955 - val_auc: 0.9290 - val_loss: 0.5156 - val_precision: 0.8385 - val_recall: 0.7467 - learning_rate: 6.2500e-05\n",
      "Epoch 77/100\n",
      "\u001b[1m200/200\u001b[0m \u001b[32m━━━━━━━━━━━━━━━━━━━━\u001b[0m\u001b[37m\u001b[0m \u001b[1m0s\u001b[0m 2ms/step - accuracy: 0.7761 - auc: 0.9140 - loss: 0.5680 - precision: 0.8209 - recall: 0.7024 - val_accuracy: 0.8030 - val_auc: 0.9309 - val_loss: 0.5098 - val_precision: 0.8435 - val_recall: 0.7517 - learning_rate: 6.2500e-05\n",
      "Epoch 78/100\n",
      "\u001b[1m200/200\u001b[0m \u001b[32m━━━━━━━━━━━━━━━━━━━━\u001b[0m\u001b[37m\u001b[0m \u001b[1m1s\u001b[0m 3ms/step - accuracy: 0.7722 - auc: 0.9107 - loss: 0.5816 - precision: 0.8170 - recall: 0.7017 - val_accuracy: 0.8068 - val_auc: 0.9318 - val_loss: 0.5071 - val_precision: 0.8446 - val_recall: 0.7442 - learning_rate: 6.2500e-05\n",
      "Epoch 79/100\n",
      "\u001b[1m200/200\u001b[0m \u001b[32m━━━━━━━━━━━━━━━━━━━━\u001b[0m\u001b[37m\u001b[0m \u001b[1m1s\u001b[0m 3ms/step - accuracy: 0.7678 - auc: 0.9143 - loss: 0.5671 - precision: 0.8205 - recall: 0.7014 - val_accuracy: 0.8055 - val_auc: 0.9312 - val_loss: 0.5086 - val_precision: 0.8444 - val_recall: 0.7498 - learning_rate: 6.2500e-05\n",
      "Epoch 80/100\n",
      "\u001b[1m200/200\u001b[0m \u001b[32m━━━━━━━━━━━━━━━━━━━━\u001b[0m\u001b[37m\u001b[0m \u001b[1m1s\u001b[0m 3ms/step - accuracy: 0.7735 - auc: 0.9144 - loss: 0.5681 - precision: 0.8198 - recall: 0.6995 - val_accuracy: 0.8055 - val_auc: 0.9319 - val_loss: 0.5063 - val_precision: 0.8440 - val_recall: 0.7511 - learning_rate: 6.2500e-05\n",
      "Epoch 81/100\n",
      "\u001b[1m200/200\u001b[0m \u001b[32m━━━━━━━━━━━━━━━━━━━━\u001b[0m\u001b[37m\u001b[0m \u001b[1m1s\u001b[0m 4ms/step - accuracy: 0.7779 - auc: 0.9157 - loss: 0.5640 - precision: 0.8308 - recall: 0.7156 - val_accuracy: 0.8099 - val_auc: 0.9320 - val_loss: 0.5053 - val_precision: 0.8400 - val_recall: 0.7517 - learning_rate: 6.2500e-05\n",
      "Epoch 82/100\n",
      "\u001b[1m200/200\u001b[0m \u001b[32m━━━━━━━━━━━━━━━━━━━━\u001b[0m\u001b[37m\u001b[0m \u001b[1m1s\u001b[0m 3ms/step - accuracy: 0.7636 - auc: 0.9133 - loss: 0.5692 - precision: 0.8158 - recall: 0.7032 - val_accuracy: 0.8105 - val_auc: 0.9318 - val_loss: 0.5059 - val_precision: 0.8424 - val_recall: 0.7455 - learning_rate: 6.2500e-05\n",
      "Epoch 83/100\n",
      "\u001b[1m200/200\u001b[0m \u001b[32m━━━━━━━━━━━━━━━━━━━━\u001b[0m\u001b[37m\u001b[0m \u001b[1m1s\u001b[0m 3ms/step - accuracy: 0.7658 - auc: 0.9112 - loss: 0.5779 - precision: 0.8166 - recall: 0.6993 - val_accuracy: 0.8093 - val_auc: 0.9315 - val_loss: 0.5070 - val_precision: 0.8409 - val_recall: 0.7436 - learning_rate: 6.2500e-05\n",
      "Epoch 84/100\n",
      "\u001b[1m200/200\u001b[0m \u001b[32m━━━━━━━━━━━━━━━━━━━━\u001b[0m\u001b[37m\u001b[0m \u001b[1m1s\u001b[0m 3ms/step - accuracy: 0.7647 - auc: 0.9120 - loss: 0.5747 - precision: 0.8162 - recall: 0.7055 - val_accuracy: 0.8080 - val_auc: 0.9312 - val_loss: 0.5082 - val_precision: 0.8394 - val_recall: 0.7486 - learning_rate: 6.2500e-05\n",
      "Epoch 85/100\n",
      "\u001b[1m200/200\u001b[0m \u001b[32m━━━━━━━━━━━━━━━━━━━━\u001b[0m\u001b[37m\u001b[0m \u001b[1m1s\u001b[0m 3ms/step - accuracy: 0.7816 - auc: 0.9164 - loss: 0.5602 - precision: 0.8209 - recall: 0.7122 - val_accuracy: 0.8036 - val_auc: 0.9306 - val_loss: 0.5106 - val_precision: 0.8364 - val_recall: 0.7417 - learning_rate: 6.2500e-05\n",
      "Epoch 86/100\n",
      "\u001b[1m195/200\u001b[0m \u001b[32m━━━━━━━━━━━━━━━━━━━\u001b[0m\u001b[37m━\u001b[0m \u001b[1m0s\u001b[0m 2ms/step - accuracy: 0.7754 - auc: 0.9159 - loss: 0.5616 - precision: 0.8204 - recall: 0.7103\n",
      "Epoch 86: ReduceLROnPlateau reducing learning rate to 3.125000148429535e-05.\n",
      "\u001b[1m200/200\u001b[0m \u001b[32m━━━━━━━━━━━━━━━━━━━━\u001b[0m\u001b[37m\u001b[0m \u001b[1m1s\u001b[0m 3ms/step - accuracy: 0.7754 - auc: 0.9158 - loss: 0.5618 - precision: 0.8204 - recall: 0.7103 - val_accuracy: 0.8093 - val_auc: 0.9310 - val_loss: 0.5092 - val_precision: 0.8389 - val_recall: 0.7423 - learning_rate: 6.2500e-05\n",
      "Epoch 87/100\n",
      "\u001b[1m200/200\u001b[0m \u001b[32m━━━━━━━━━━━━━━━━━━━━\u001b[0m\u001b[37m\u001b[0m \u001b[1m1s\u001b[0m 3ms/step - accuracy: 0.7786 - auc: 0.9146 - loss: 0.5674 - precision: 0.8216 - recall: 0.7152 - val_accuracy: 0.8036 - val_auc: 0.9319 - val_loss: 0.5055 - val_precision: 0.8408 - val_recall: 0.7561 - learning_rate: 3.1250e-05\n",
      "Epoch 88/100\n",
      "\u001b[1m200/200\u001b[0m \u001b[32m━━━━━━━━━━━━━━━━━━━━\u001b[0m\u001b[37m\u001b[0m \u001b[1m1s\u001b[0m 3ms/step - accuracy: 0.7807 - auc: 0.9169 - loss: 0.5612 - precision: 0.8282 - recall: 0.7175 - val_accuracy: 0.8043 - val_auc: 0.9315 - val_loss: 0.5075 - val_precision: 0.8413 - val_recall: 0.7561 - learning_rate: 3.1250e-05\n",
      "Epoch 89/100\n",
      "\u001b[1m200/200\u001b[0m \u001b[32m━━━━━━━━━━━━━━━━━━━━\u001b[0m\u001b[37m\u001b[0m \u001b[1m1s\u001b[0m 3ms/step - accuracy: 0.7741 - auc: 0.9138 - loss: 0.5673 - precision: 0.8206 - recall: 0.7061 - val_accuracy: 0.8105 - val_auc: 0.9320 - val_loss: 0.5056 - val_precision: 0.8407 - val_recall: 0.7461 - learning_rate: 3.1250e-05\n",
      "Epoch 90/100\n",
      "\u001b[1m200/200\u001b[0m \u001b[32m━━━━━━━━━━━━━━━━━━━━\u001b[0m\u001b[37m\u001b[0m \u001b[1m1s\u001b[0m 3ms/step - accuracy: 0.7827 - auc: 0.9175 - loss: 0.5590 - precision: 0.8280 - recall: 0.7217 - val_accuracy: 0.8068 - val_auc: 0.9319 - val_loss: 0.5059 - val_precision: 0.8381 - val_recall: 0.7542 - learning_rate: 3.1250e-05\n",
      "Epoch 91/100\n",
      "\u001b[1m189/200\u001b[0m \u001b[32m━━━━━━━━━━━━━━━━━━\u001b[0m\u001b[37m━━\u001b[0m \u001b[1m0s\u001b[0m 3ms/step - accuracy: 0.7763 - auc: 0.9139 - loss: 0.5706 - precision: 0.8243 - recall: 0.7057\n",
      "Epoch 91: ReduceLROnPlateau reducing learning rate to 1.5625000742147677e-05.\n",
      "\u001b[1m200/200\u001b[0m \u001b[32m━━━━━━━━━━━━━━━━━━━━\u001b[0m\u001b[37m\u001b[0m \u001b[1m1s\u001b[0m 3ms/step - accuracy: 0.7760 - auc: 0.9138 - loss: 0.5707 - precision: 0.8240 - recall: 0.7059 - val_accuracy: 0.8074 - val_auc: 0.9319 - val_loss: 0.5060 - val_precision: 0.8407 - val_recall: 0.7492 - learning_rate: 3.1250e-05\n"
     ]
    }
   ],
   "source": [
    "\n",
    "import tensorflow as tf\n",
    "from tensorflow.keras.models import Sequential\n",
    "from tensorflow.keras.layers import Conv1D, MaxPooling1D, Dropout, Flatten, Dense, BatchNormalization\n",
    "from tensorflow.keras.callbacks import EarlyStopping, ReduceLROnPlateau\n",
    "\n",
    "# Build the model\n",
    "model = Sequential([\n",
    "    Conv1D(filters=64, kernel_size=3, activation='relu', input_shape=(input_length, 1)),\n",
    "    BatchNormalization(),\n",
    "    MaxPooling1D(pool_size=2),\n",
    "    Dropout(0.3),\n",
    "\n",
    "    Conv1D(filters=128, kernel_size=3, activation='relu'),\n",
    "    BatchNormalization(),\n",
    "    MaxPooling1D(pool_size=2),\n",
    "    Dropout(0.3),\n",
    "\n",
    "    Flatten(),\n",
    "\n",
    "    Dense(64, activation='relu'),\n",
    "    Dropout(0.3),\n",
    "    Dense(num_classes, activation='softmax') \n",
    "])\n",
    "\n",
    "# Compile the model\n",
    "model.compile(\n",
    "    loss='categorical_crossentropy',\n",
    "    optimizer=tf.keras.optimizers.Adam(learning_rate=0.001),\n",
    "    metrics=['accuracy', tf.keras.metrics.AUC(name='auc'), tf.keras.metrics.Precision(), tf.keras.metrics.Recall()]\n",
    ")\n",
    "\n",
    "# Callbacks\n",
    "early_stop = EarlyStopping(monitor='val_loss', patience=10, restore_best_weights=True)\n",
    "reduce_lr = ReduceLROnPlateau(monitor='val_loss', patience=5, factor=0.5, verbose=1)\n",
    "\n",
    "# Train the model\n",
    "history = model.fit(\n",
    "    X_train, y_train,\n",
    "    validation_data=(X_test, y_test),\n",
    "    epochs=100,\n",
    "    batch_size=32,\n",
    "    callbacks=[early_stop, reduce_lr],\n",
    "    verbose=1\n",
    ")\n"
   ]
  },
  {
   "cell_type": "code",
   "execution_count": 23,
   "metadata": {
    "_cell_guid": "b995c58c-99e5-4f29-a091-54a33604464f",
    "_uuid": "d7255c17-22b0-475e-84bc-602d157e91f1",
    "collapsed": false,
    "execution": {
     "iopub.execute_input": "2025-05-15T05:58:41.055643Z",
     "iopub.status.busy": "2025-05-15T05:58:41.054456Z",
     "iopub.status.idle": "2025-05-15T05:58:41.338786Z",
     "shell.execute_reply": "2025-05-15T05:58:41.337627Z",
     "shell.execute_reply.started": "2025-05-15T05:58:41.055602Z"
    },
    "jupyter": {
     "outputs_hidden": false
    },
    "trusted": true
   },
   "outputs": [
    {
     "name": "stdout",
     "output_type": "stream",
     "text": [
      "loss: 0.5053\n",
      "compile_metrics: 0.8099\n"
     ]
    }
   ],
   "source": [
    "results = model.evaluate(X_test, y_test, verbose=0)\n",
    "for name, val in zip(model.metrics_names, results):\n",
    "    print(f\"{name}: {val:.4f}\")\n"
   ]
  },
  {
   "cell_type": "code",
   "execution_count": 24,
   "metadata": {
    "execution": {
     "iopub.execute_input": "2025-05-15T05:59:14.384098Z",
     "iopub.status.busy": "2025-05-15T05:59:14.383635Z",
     "iopub.status.idle": "2025-05-15T05:59:14.934857Z",
     "shell.execute_reply": "2025-05-15T05:59:14.933809Z",
     "shell.execute_reply.started": "2025-05-15T05:59:14.384069Z"
    },
    "trusted": true
   },
   "outputs": [
    {
     "name": "stdout",
     "output_type": "stream",
     "text": [
      "\u001b[1m50/50\u001b[0m \u001b[32m━━━━━━━━━━━━━━━━━━━━\u001b[0m\u001b[37m\u001b[0m \u001b[1m0s\u001b[0m 2ms/step\n"
     ]
    }
   ],
   "source": [
    "y_pred_probs = model.predict(X_test)\n"
   ]
  },
  {
   "cell_type": "code",
   "execution_count": 25,
   "metadata": {
    "execution": {
     "iopub.execute_input": "2025-05-15T05:59:24.273596Z",
     "iopub.status.busy": "2025-05-15T05:59:24.273240Z",
     "iopub.status.idle": "2025-05-15T05:59:24.283427Z",
     "shell.execute_reply": "2025-05-15T05:59:24.282349Z",
     "shell.execute_reply.started": "2025-05-15T05:59:24.273572Z"
    },
    "trusted": true
   },
   "outputs": [],
   "source": [
    "from sklearn.metrics import roc_curve, auc\n",
    "import matplotlib.pyplot as plt\n",
    "\n",
    "# Extract probabilities for the positive class\n",
    "y_test_labels = y_test[:, 1]          # actual class labels\n",
    "y_score = y_pred_probs[:, 1]          # predicted probabilities for class 1\n",
    "\n",
    "# Compute ROC curve and AUC\n",
    "fpr, tpr, thresholds = roc_curve(y_test_labels, y_score)\n",
    "roc_auc = auc(fpr, tpr)\n"
   ]
  },
  {
   "cell_type": "code",
   "execution_count": 57,
   "metadata": {
    "execution": {
     "iopub.execute_input": "2025-05-15T05:59:54.462047Z",
     "iopub.status.busy": "2025-05-15T05:59:54.461748Z",
     "iopub.status.idle": "2025-05-15T05:59:54.660615Z",
     "shell.execute_reply": "2025-05-15T05:59:54.659592Z",
     "shell.execute_reply.started": "2025-05-15T05:59:54.462027Z"
    },
    "trusted": true
   },
   "outputs": [
    {
     "data": {
      "image/png": "[encoded data removed]",
      "text/plain": [
       "<Figure size 800x600 with 1 Axes>"
      ]
     },
     "metadata": {},
     "output_type": "display_data"
    }
   ],
   "source": [
    "plt.figure(figsize=(8, 6))\n",
    "plt.plot(fpr, tpr, color='darkorange', lw=2, label=f'ROC curve (AUC = {roc_auc:.2f})')\n",
    "plt.plot([0, 1], [0, 1], color='navy', lw=2, linestyle='--', label='Random Classifier')\n",
    "plt.xlim([0.0, 1.0])\n",
    "plt.ylim([0.0, 1.05])\n",
    "plt.xlabel('False Positive Rate')\n",
    "plt.ylabel('True Positive Rate')\n",
    "plt.title('Receiver Operating Characteristic')\n",
    "plt.legend(loc='lower right')\n",
    "plt.grid(True)\n",
    "plt.show()\n"
   ]
  }
 ],
 "metadata": {
  "kaggle": {
   "accelerator": "none",
   "dataSources": [
    {
     "datasetId": 7422944,
     "sourceId": 11817888,
     "sourceType": "datasetVersion"
    }
   ],
   "dockerImageVersionId": 31040,
   "isGpuEnabled": false,
   "isInternetEnabled": true,
   "language": "python",
   "sourceType": "notebook"
  },
  "kernelspec": {
   "display_name": "venv",
   "language": "python",
   "name": "python3"
  },
  "language_info": {
   "codemirror_mode": {
    "name": "ipython",
    "version": 3
   },
   "file_extension": ".py",
   "mimetype": "text/x-python",
   "name": "python",
   "nbconvert_exporter": "python",
   "pygments_lexer": "ipython3",
   "version": "3.12.3"
  }
 },
 "nbformat": 4,
 "nbformat_minor": 4
}
